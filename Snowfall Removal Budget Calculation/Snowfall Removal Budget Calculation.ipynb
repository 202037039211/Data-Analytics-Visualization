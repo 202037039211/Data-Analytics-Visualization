{
 "cells": [
  {
   "cell_type": "markdown",
   "metadata": {},
   "source": [
    "# <a id='toc1_'></a>[Snowfall Removal Budget Calculation](#toc0_)\n"
   ]
  },
  {
   "cell_type": "markdown",
   "metadata": {},
   "source": [
    "Note: This project uses [IBM Environmental Intelligence APIs](https://www.ibm.com/products/environmental-intelligence/?utm_source=skills_network&utm_content=in_lab_content_link&utm_id=Lab-Snowfall+Removal+Budget+Calculation-v1), specifically the [History on Demand Direct API](https://developer.ibm.com/apis/catalog/envintelsuite--ibm-environmental-intelligence/Introduction#history-on-demand-apis), to walk step by step through the [Snowfall Removal Budget Calculation](https://github.com/IBM/Environmental-Intelligence/blob/main/historical_weather_on_demand/samples/industry_use_cases/snowfall_removal_budget.ipynb) use case.\n"
   ]
  },
  {
   "cell_type": "markdown",
   "metadata": {},
   "source": [
    "**Table of contents**<a id='toc0_'></a>    \n",
    "- [Snowfall Removal Budget Calculation](#toc1_)    \n",
    "  - [Introduction](#toc1_1_)    \n",
    "    - [What is History on Demand Direct API?](#toc1_1_1_)    \n",
    "  - [What does this project do?](#toc1_2_)    \n",
    "  - [Objectives](#toc1_3_)    \n",
    "  - [Setup](#toc1_4_)    \n",
    "    - [Installing required libraries](#toc1_4_1_)    \n",
    "  - [History on Demand Direct API](#toc1_5_)    \n",
    "  - [Make API Call](#toc1_6_)    \n",
    "    - [Analysis](#toc1_6_1_)    \n",
    "      - [What is temparature?](#toc1_6_1_1_)    \n",
    "      - [What is temperatureDewPoint?](#toc1_6_1_2_)    \n",
    "      - [What is precip1Hour?](#toc1_6_1_3_)    \n",
    "      - [What is snow1Hour?](#toc1_6_1_4_)    \n",
    "  - [Interested to learn more?](#toc1_7_)    \n"
   ]
  },
  {
   "cell_type": "markdown",
   "metadata": {},
   "source": [
    "## <a id='toc1_1_'></a>[Introduction](#toc0_)\n",
    "\n",
    "### <a id='toc1_1_1_'></a>[What is the History on Demand Direct API?](#toc0_)\n",
    "\n",
    "[HoD Direct](https://developer.ibm.com/apis/catalog/envintelsuite--ibm-environmental-intelligence/Introduction#history-on-demand-apis) is a synchronous API that enables users to examine hourly gCOD and AGE data. Users specify the geospatial and the temporal facets of the query in the URL, and the data is returned in the response.\n",
    "\n",
    "## <a id='toc1_2_'></a>[What does this guided project do?](#toc0_)\n",
    "\n",
    "This project uses the **History on Demand Direct API** to calculate the costs incurred to clear snowfall. Specifically, we will analyze snowfall data to understand accumulations by comparing the average snowfall during the same period over the past years. With this analysis, we can calculate the maintenance costs of clearing snow for a local government organization.\n",
    "\n",
    "\n",
    "## <a id='toc1_3_'></a>[Objectives](#toc0_)\n",
    "\n",
    "After completing this lab you will:\n",
    "\n",
    "- Understand how to set up and configure **IBM Environmental Intelligence - History on Demand Direct API**.\n",
    "- Know how to use the **History on Demand Direct API**.\n"
   ]
  },
  {
   "cell_type": "markdown",
   "metadata": {},
   "source": [
    "## <a id='toc1_4_'></a>[Setup](#toc0_)\n",
    "\n",
    "For this lab, we will be using the following libraries:\n",
    "\n",
    "\n",
    "*   [`pandas`](https://pandas.pydata.org/): pandas is a fast, powerful, flexible and easy to use open source data analysis and data manipulation library built on top of the Python programming language.\n",
    "*   [`requests`](https://pypi.org/project/requests/): Requests is an elegant and simple HTTP library for Python.\n",
    "*   [`json`](https://docs.python.org/3/library/json.html): JSON (JavaScript Object Notation) is a lightweight data-interchange format.\n",
    "*   [`matplotlib`](https://matplotlib.org/) for additional plotting tools.\n"
   ]
  },
  {
   "cell_type": "code",
   "execution_count": 1,
   "metadata": {},
   "outputs": [
    {
     "name": "stdout",
     "output_type": "stream",
     "text": [
      "Requirement already satisfied: six>=1.5 in /home/debian/venv/lib/python3.11/site-packages (from python-dateutil>=2.8.2->pandas==2.1.4) (1.16.0)\n",
      "Note: you may need to restart the kernel to use updated packages.\n",
      "Requirement already satisfied: six>=1.5 in /home/debian/venv/lib/python3.11/site-packages (from python-dateutil>=2.7->matplotlib==3.9.2) (1.16.0)\n",
      "Note: you may need to restart the kernel to use updated packages.\n"
     ]
    }
   ],
   "source": [
    "%pip install pandas==2.1.4 --no-warn-script-location | tail -n 1\n",
    "%pip install matplotlib==3.9.2 --no-warn-script-location | tail -n 1"
   ]
  },
  {
   "cell_type": "code",
   "execution_count": 1,
   "metadata": {},
   "outputs": [],
   "source": [
    "#All imports needed for the sample\n",
    "import requests\n",
    "import pandas as pd\n",
    "import json\n",
    "from pandas import json_normalize\n",
    "\n",
    "import warnings\n",
    "warnings.filterwarnings('ignore')"
   ]
  },
  {
   "cell_type": "markdown",
   "metadata": {},
   "source": [
    "## <a id='toc1_5_'></a>[Accessing History on Demand Direct API](#toc0_)\n",
    "\n",
    "This section provides the steps for you to obtain the necessary credentials to access the Environmental Intelligence APIs. Once you have signed up, you will receive the `api_key`, `tenant_id`, and `org_id` that you need to access the APIs.\n",
    "\n",
    "**Note**: The following steps are intended for new registrants only. If you previously created an IBMid, go to the Free APIs Preview [sign-up form](https://www.ibm.com/account/reg/us-en/signup?utm_source=skills_network&utm_content=in_lab_content_link&utm_id=Lab-Snowfall+Removal+Budget+Calculation-v1&formid=urx-52894), click **Log in**, and go to step 3 below, starting at “A page opens ….”\n",
    "\n",
    "1. Go to the Free APIs Preview [sign-up form](https://www.ibm.com/account/reg/us-en/signup?utm_source=skills_network&utm_content=in_lab_content_link&utm_id=Lab-Snowfall+Removal+Budget+Calculation-v1&formid=urx-52894).\n",
    "2. Complete the form and click **Next**. A message displays stating that a verification code has been sent to the email address you entered. (If you don't see the email with the code, be sure to check your Spam or Promotions folder.)\n",
    "3. Enter the validation code from the email and click **Submit**. A page opens indicating that your request has been received and that you will receive an email when your access is ready. That email will include a link to the Developer Console, Samples, and Learning Courses. (If you don't see the email, check your Spam or Promotions folder.)\n",
    "4. After you login to the Developer Console using your IBMid, you will have access to your **API key**, **OrgId**, **TenantId (ClientId)**, and token.\n",
    "5. Use the **API key**, **OrgId**, and **TenantId** to access and use the APIs.\n",
    "\n",
    "\n",
    "**Note**: If you see a 401 Unauthorized error:\n",
    "- Check the Authorization.\n",
    "- Re-enter the security parameters in the correct order if missing.\n",
    "\n"
   ]
  },
  {
   "cell_type": "code",
   "execution_count": 2,
   "metadata": {},
   "outputs": [
    {
     "name": "stdout",
     "output_type": "stream",
     "text": [
      "Authentication Success\n"
     ]
    }
   ],
   "source": [
    "# Copy your keys here\n",
    "EI_API_KEY    = '/'\n",
    "EI_TENANT_ID  = '/'\n",
    "EI_ORG_ID     = '/'\n",
    "\n",
    "\n",
    "EI_AUTH_ENDPOINT = \"https://api.ibm.com/saascore/run/authentication-retrieve\"\n",
    "EI_API_BASE_URL  = \"https://api.ibm.com/geospatial/run/v3/wx\"\n",
    "EI_API_ENDPOINT  = f\"{EI_API_BASE_URL}/hod/r1/direct\"\n",
    "\n",
    "\n",
    "EI_AUTH_CLIENT_ID  = 'saascore-' + EI_TENANT_ID\n",
    "EI_CLIENT_ID = 'geospatial-' + EI_TENANT_ID\n",
    "\n",
    "auth_request_headers: dict = {}\n",
    "auth_request_headers[\"X-IBM-Client-Id\"] = EI_AUTH_CLIENT_ID\n",
    "auth_request_headers[\"X-API-Key\"] = EI_API_KEY\n",
    "\n",
    "verify = True\n",
    "\n",
    "auth_url = f\"{EI_AUTH_ENDPOINT}/api-key?orgId={EI_ORG_ID}\"\n",
    "              \n",
    "response = requests.get(url = auth_url,\n",
    "                        headers = auth_request_headers,\n",
    "                        verify  = verify\n",
    "                       )\n",
    "if response.status_code == 200:\n",
    "    jwt_token = response.text\n",
    "    print(\"Authentication Success\")\n",
    "else:     \n",
    "    print(\"Authentication Failed\")\n",
    "    print(response.text)"
   ]
  },
  {
   "cell_type": "markdown",
   "metadata": {},
   "source": [
    "## <a id='toc1_6_'></a>[Make an API call](#toc0_)\n",
    "\n",
    "Once the API credentials are setup, we will build the required query parameters and headers for making an HOD Direct API call. \n",
    "With the query parameters and the headers set up, we will send an **HTTP GET Request** to the **HOD Direct API Endpoint** and get back the response.\n",
    "This API response is a **JSON** structure, which we'll convert to Dataframe and display.\n",
    "\n",
    "There are various parameters you can send to retrieve the snowfall information for a particular location:\n",
    "1. By using either the geographical coordinates or a postalKey of the desired location.\n",
    "2. StartDateTime and endDateTime for the location.\n",
    "3. The required format for the output to be retrieved, in this case JSON, and many other required parameters.\n"
   ]
  },
  {
   "cell_type": "code",
   "execution_count": 3,
   "metadata": {},
   "outputs": [
    {
     "data": {
      "text/html": [
       "<div>\n",
       "<style scoped>\n",
       "    .dataframe tbody tr th:only-of-type {\n",
       "        vertical-align: middle;\n",
       "    }\n",
       "\n",
       "    .dataframe tbody tr th {\n",
       "        vertical-align: top;\n",
       "    }\n",
       "\n",
       "    .dataframe thead th {\n",
       "        text-align: right;\n",
       "    }\n",
       "</style>\n",
       "<table border=\"1\" class=\"dataframe\">\n",
       "  <thead>\n",
       "    <tr style=\"text-align: right;\">\n",
       "      <th></th>\n",
       "      <th>requestedLatitude</th>\n",
       "      <th>requestedLongitude</th>\n",
       "      <th>latitude</th>\n",
       "      <th>longitude</th>\n",
       "      <th>gridpointId</th>\n",
       "      <th>validTimeUtc</th>\n",
       "      <th>drivingDifficultyIndex</th>\n",
       "      <th>iconCode</th>\n",
       "      <th>iconCodeExtended</th>\n",
       "      <th>precip1Hour</th>\n",
       "      <th>...</th>\n",
       "      <th>temperatureChange24Hour</th>\n",
       "      <th>temperatureMax24Hour</th>\n",
       "      <th>temperatureMin24Hour</th>\n",
       "      <th>temperatureDewPoint</th>\n",
       "      <th>temperatureFeelsLike</th>\n",
       "      <th>uvIndex</th>\n",
       "      <th>visibility</th>\n",
       "      <th>windDirection</th>\n",
       "      <th>windGust</th>\n",
       "      <th>windSpeed</th>\n",
       "    </tr>\n",
       "  </thead>\n",
       "  <tbody>\n",
       "    <tr>\n",
       "      <th>0</th>\n",
       "      <td>40.04628</td>\n",
       "      <td>-105.199184</td>\n",
       "      <td>40.065934</td>\n",
       "      <td>-105.205091</td>\n",
       "      <td>9xj5vvzbzxqqn</td>\n",
       "      <td>2023-04-01T00:20:00+0000</td>\n",
       "      <td>0</td>\n",
       "      <td>32</td>\n",
       "      <td>3200</td>\n",
       "      <td>0.0</td>\n",
       "      <td>...</td>\n",
       "      <td>-5.8</td>\n",
       "      <td>56.6</td>\n",
       "      <td>36.4</td>\n",
       "      <td>8.7</td>\n",
       "      <td>39.5</td>\n",
       "      <td>0</td>\n",
       "      <td>10.00</td>\n",
       "      <td>290.0</td>\n",
       "      <td>32.0</td>\n",
       "      <td>16.1</td>\n",
       "    </tr>\n",
       "    <tr>\n",
       "      <th>1</th>\n",
       "      <td>40.04628</td>\n",
       "      <td>-105.199184</td>\n",
       "      <td>40.065934</td>\n",
       "      <td>-105.205091</td>\n",
       "      <td>9xj5vvzbzxqqn</td>\n",
       "      <td>2023-04-01T01:20:00+0000</td>\n",
       "      <td>0</td>\n",
       "      <td>32</td>\n",
       "      <td>3200</td>\n",
       "      <td>0.0</td>\n",
       "      <td>...</td>\n",
       "      <td>-0.1</td>\n",
       "      <td>49.9</td>\n",
       "      <td>36.4</td>\n",
       "      <td>6.5</td>\n",
       "      <td>42.0</td>\n",
       "      <td>0</td>\n",
       "      <td>10.00</td>\n",
       "      <td>300.0</td>\n",
       "      <td>22.1</td>\n",
       "      <td>10.5</td>\n",
       "    </tr>\n",
       "    <tr>\n",
       "      <th>2</th>\n",
       "      <td>40.04628</td>\n",
       "      <td>-105.199184</td>\n",
       "      <td>40.065934</td>\n",
       "      <td>-105.205091</td>\n",
       "      <td>9xj5vvzbzxqqn</td>\n",
       "      <td>2023-04-01T02:20:00+0000</td>\n",
       "      <td>0</td>\n",
       "      <td>31</td>\n",
       "      <td>3100</td>\n",
       "      <td>0.0</td>\n",
       "      <td>...</td>\n",
       "      <td>-1.2</td>\n",
       "      <td>49.9</td>\n",
       "      <td>36.4</td>\n",
       "      <td>7.3</td>\n",
       "      <td>41.6</td>\n",
       "      <td>0</td>\n",
       "      <td>10.00</td>\n",
       "      <td>320.0</td>\n",
       "      <td>NaN</td>\n",
       "      <td>6.0</td>\n",
       "    </tr>\n",
       "    <tr>\n",
       "      <th>3</th>\n",
       "      <td>40.04628</td>\n",
       "      <td>-105.199184</td>\n",
       "      <td>40.065934</td>\n",
       "      <td>-105.205091</td>\n",
       "      <td>9xj5vvzbzxqqn</td>\n",
       "      <td>2023-04-01T03:20:00+0000</td>\n",
       "      <td>0</td>\n",
       "      <td>33</td>\n",
       "      <td>3300</td>\n",
       "      <td>0.0</td>\n",
       "      <td>...</td>\n",
       "      <td>-2.3</td>\n",
       "      <td>49.9</td>\n",
       "      <td>36.4</td>\n",
       "      <td>9.8</td>\n",
       "      <td>39.5</td>\n",
       "      <td>0</td>\n",
       "      <td>10.00</td>\n",
       "      <td>30.0</td>\n",
       "      <td>NaN</td>\n",
       "      <td>5.6</td>\n",
       "    </tr>\n",
       "    <tr>\n",
       "      <th>4</th>\n",
       "      <td>40.04628</td>\n",
       "      <td>-105.199184</td>\n",
       "      <td>40.065934</td>\n",
       "      <td>-105.205091</td>\n",
       "      <td>9xj5vvzbzxqqn</td>\n",
       "      <td>2023-04-01T04:20:00+0000</td>\n",
       "      <td>0</td>\n",
       "      <td>29</td>\n",
       "      <td>2900</td>\n",
       "      <td>0.0</td>\n",
       "      <td>...</td>\n",
       "      <td>-1.4</td>\n",
       "      <td>49.9</td>\n",
       "      <td>36.4</td>\n",
       "      <td>11.9</td>\n",
       "      <td>39.8</td>\n",
       "      <td>0</td>\n",
       "      <td>10.00</td>\n",
       "      <td>220.0</td>\n",
       "      <td>NaN</td>\n",
       "      <td>4.7</td>\n",
       "    </tr>\n",
       "    <tr>\n",
       "      <th>...</th>\n",
       "      <td>...</td>\n",
       "      <td>...</td>\n",
       "      <td>...</td>\n",
       "      <td>...</td>\n",
       "      <td>...</td>\n",
       "      <td>...</td>\n",
       "      <td>...</td>\n",
       "      <td>...</td>\n",
       "      <td>...</td>\n",
       "      <td>...</td>\n",
       "      <td>...</td>\n",
       "      <td>...</td>\n",
       "      <td>...</td>\n",
       "      <td>...</td>\n",
       "      <td>...</td>\n",
       "      <td>...</td>\n",
       "      <td>...</td>\n",
       "      <td>...</td>\n",
       "      <td>...</td>\n",
       "      <td>...</td>\n",
       "      <td>...</td>\n",
       "    </tr>\n",
       "    <tr>\n",
       "      <th>162</th>\n",
       "      <td>40.04628</td>\n",
       "      <td>-105.199184</td>\n",
       "      <td>40.065934</td>\n",
       "      <td>-105.205091</td>\n",
       "      <td>9xj5vvzbzxqqn</td>\n",
       "      <td>2023-04-07T18:20:00+0000</td>\n",
       "      <td>0</td>\n",
       "      <td>32</td>\n",
       "      <td>3200</td>\n",
       "      <td>0.0</td>\n",
       "      <td>...</td>\n",
       "      <td>6.5</td>\n",
       "      <td>58.4</td>\n",
       "      <td>27.8</td>\n",
       "      <td>13.9</td>\n",
       "      <td>58.4</td>\n",
       "      <td>6</td>\n",
       "      <td>10.00</td>\n",
       "      <td>100.0</td>\n",
       "      <td>NaN</td>\n",
       "      <td>2.2</td>\n",
       "    </tr>\n",
       "    <tr>\n",
       "      <th>163</th>\n",
       "      <td>40.04628</td>\n",
       "      <td>-105.199184</td>\n",
       "      <td>40.065934</td>\n",
       "      <td>-105.205091</td>\n",
       "      <td>9xj5vvzbzxqqn</td>\n",
       "      <td>2023-04-07T19:20:00+0000</td>\n",
       "      <td>0</td>\n",
       "      <td>32</td>\n",
       "      <td>3200</td>\n",
       "      <td>0.0</td>\n",
       "      <td>...</td>\n",
       "      <td>6.9</td>\n",
       "      <td>61.3</td>\n",
       "      <td>27.8</td>\n",
       "      <td>14.5</td>\n",
       "      <td>61.3</td>\n",
       "      <td>6</td>\n",
       "      <td>10.00</td>\n",
       "      <td>90.0</td>\n",
       "      <td>NaN</td>\n",
       "      <td>3.6</td>\n",
       "    </tr>\n",
       "    <tr>\n",
       "      <th>164</th>\n",
       "      <td>40.04628</td>\n",
       "      <td>-105.199184</td>\n",
       "      <td>40.065934</td>\n",
       "      <td>-105.205091</td>\n",
       "      <td>9xj5vvzbzxqqn</td>\n",
       "      <td>2023-04-07T20:20:00+0000</td>\n",
       "      <td>0</td>\n",
       "      <td>32</td>\n",
       "      <td>3200</td>\n",
       "      <td>0.0</td>\n",
       "      <td>...</td>\n",
       "      <td>7.7</td>\n",
       "      <td>64.0</td>\n",
       "      <td>27.8</td>\n",
       "      <td>12.1</td>\n",
       "      <td>64.0</td>\n",
       "      <td>6</td>\n",
       "      <td>10.00</td>\n",
       "      <td>110.0</td>\n",
       "      <td>NaN</td>\n",
       "      <td>2.9</td>\n",
       "    </tr>\n",
       "    <tr>\n",
       "      <th>165</th>\n",
       "      <td>40.04628</td>\n",
       "      <td>-105.199184</td>\n",
       "      <td>40.065934</td>\n",
       "      <td>-105.205091</td>\n",
       "      <td>9xj5vvzbzxqqn</td>\n",
       "      <td>2023-04-07T21:20:00+0000</td>\n",
       "      <td>0</td>\n",
       "      <td>32</td>\n",
       "      <td>3200</td>\n",
       "      <td>0.0</td>\n",
       "      <td>...</td>\n",
       "      <td>8.1</td>\n",
       "      <td>65.9</td>\n",
       "      <td>27.8</td>\n",
       "      <td>12.1</td>\n",
       "      <td>65.8</td>\n",
       "      <td>4</td>\n",
       "      <td>10.00</td>\n",
       "      <td>200.0</td>\n",
       "      <td>NaN</td>\n",
       "      <td>6.3</td>\n",
       "    </tr>\n",
       "    <tr>\n",
       "      <th>166</th>\n",
       "      <td>40.04628</td>\n",
       "      <td>-105.199184</td>\n",
       "      <td>40.065934</td>\n",
       "      <td>-105.205091</td>\n",
       "      <td>9xj5vvzbzxqqn</td>\n",
       "      <td>2023-04-07T22:20:00+0000</td>\n",
       "      <td>0</td>\n",
       "      <td>32</td>\n",
       "      <td>3200</td>\n",
       "      <td>0.0</td>\n",
       "      <td>...</td>\n",
       "      <td>7.9</td>\n",
       "      <td>67.2</td>\n",
       "      <td>27.8</td>\n",
       "      <td>13.4</td>\n",
       "      <td>67.2</td>\n",
       "      <td>2</td>\n",
       "      <td>9.93</td>\n",
       "      <td>220.0</td>\n",
       "      <td>NaN</td>\n",
       "      <td>2.0</td>\n",
       "    </tr>\n",
       "  </tbody>\n",
       "</table>\n",
       "<p>167 rows × 40 columns</p>\n",
       "</div>"
      ],
      "text/plain": [
       "     requestedLatitude  requestedLongitude   latitude   longitude  \\\n",
       "0             40.04628         -105.199184  40.065934 -105.205091   \n",
       "1             40.04628         -105.199184  40.065934 -105.205091   \n",
       "2             40.04628         -105.199184  40.065934 -105.205091   \n",
       "3             40.04628         -105.199184  40.065934 -105.205091   \n",
       "4             40.04628         -105.199184  40.065934 -105.205091   \n",
       "..                 ...                 ...        ...         ...   \n",
       "162           40.04628         -105.199184  40.065934 -105.205091   \n",
       "163           40.04628         -105.199184  40.065934 -105.205091   \n",
       "164           40.04628         -105.199184  40.065934 -105.205091   \n",
       "165           40.04628         -105.199184  40.065934 -105.205091   \n",
       "166           40.04628         -105.199184  40.065934 -105.205091   \n",
       "\n",
       "       gridpointId              validTimeUtc  drivingDifficultyIndex  \\\n",
       "0    9xj5vvzbzxqqn  2023-04-01T00:20:00+0000                       0   \n",
       "1    9xj5vvzbzxqqn  2023-04-01T01:20:00+0000                       0   \n",
       "2    9xj5vvzbzxqqn  2023-04-01T02:20:00+0000                       0   \n",
       "3    9xj5vvzbzxqqn  2023-04-01T03:20:00+0000                       0   \n",
       "4    9xj5vvzbzxqqn  2023-04-01T04:20:00+0000                       0   \n",
       "..             ...                       ...                     ...   \n",
       "162  9xj5vvzbzxqqn  2023-04-07T18:20:00+0000                       0   \n",
       "163  9xj5vvzbzxqqn  2023-04-07T19:20:00+0000                       0   \n",
       "164  9xj5vvzbzxqqn  2023-04-07T20:20:00+0000                       0   \n",
       "165  9xj5vvzbzxqqn  2023-04-07T21:20:00+0000                       0   \n",
       "166  9xj5vvzbzxqqn  2023-04-07T22:20:00+0000                       0   \n",
       "\n",
       "     iconCode  iconCodeExtended  precip1Hour  ...  temperatureChange24Hour  \\\n",
       "0          32              3200          0.0  ...                     -5.8   \n",
       "1          32              3200          0.0  ...                     -0.1   \n",
       "2          31              3100          0.0  ...                     -1.2   \n",
       "3          33              3300          0.0  ...                     -2.3   \n",
       "4          29              2900          0.0  ...                     -1.4   \n",
       "..        ...               ...          ...  ...                      ...   \n",
       "162        32              3200          0.0  ...                      6.5   \n",
       "163        32              3200          0.0  ...                      6.9   \n",
       "164        32              3200          0.0  ...                      7.7   \n",
       "165        32              3200          0.0  ...                      8.1   \n",
       "166        32              3200          0.0  ...                      7.9   \n",
       "\n",
       "     temperatureMax24Hour  temperatureMin24Hour  temperatureDewPoint  \\\n",
       "0                    56.6                  36.4                  8.7   \n",
       "1                    49.9                  36.4                  6.5   \n",
       "2                    49.9                  36.4                  7.3   \n",
       "3                    49.9                  36.4                  9.8   \n",
       "4                    49.9                  36.4                 11.9   \n",
       "..                    ...                   ...                  ...   \n",
       "162                  58.4                  27.8                 13.9   \n",
       "163                  61.3                  27.8                 14.5   \n",
       "164                  64.0                  27.8                 12.1   \n",
       "165                  65.9                  27.8                 12.1   \n",
       "166                  67.2                  27.8                 13.4   \n",
       "\n",
       "     temperatureFeelsLike  uvIndex  visibility  windDirection  windGust  \\\n",
       "0                    39.5        0       10.00          290.0      32.0   \n",
       "1                    42.0        0       10.00          300.0      22.1   \n",
       "2                    41.6        0       10.00          320.0       NaN   \n",
       "3                    39.5        0       10.00           30.0       NaN   \n",
       "4                    39.8        0       10.00          220.0       NaN   \n",
       "..                    ...      ...         ...            ...       ...   \n",
       "162                  58.4        6       10.00          100.0       NaN   \n",
       "163                  61.3        6       10.00           90.0       NaN   \n",
       "164                  64.0        6       10.00          110.0       NaN   \n",
       "165                  65.8        4       10.00          200.0       NaN   \n",
       "166                  67.2        2        9.93          220.0       NaN   \n",
       "\n",
       "     windSpeed  \n",
       "0         16.1  \n",
       "1         10.5  \n",
       "2          6.0  \n",
       "3          5.6  \n",
       "4          4.7  \n",
       "..         ...  \n",
       "162        2.2  \n",
       "163        3.6  \n",
       "164        2.9  \n",
       "165        6.3  \n",
       "166        2.0  \n",
       "\n",
       "[167 rows x 40 columns]"
      ]
     },
     "metadata": {},
     "output_type": "display_data"
    }
   ],
   "source": [
    "# Create the query parameter\n",
    "# provide the geocode cordinates, startdatetime, enddatatime, format as json, units as per your requirements to get data\n",
    "query_params: dict = {}\n",
    "query_params[\"startDateTime\"] = \"2023-03-07T00\"\n",
    "query_params[\"endDateTime\"] = \"2023-04-07T23\"\n",
    "query_params[\"format\"] = \"json\"\n",
    "query_params[\"units\"] = \"e\"\n",
    "query_params[\"compact\"] = \"false\"\n",
    "query_params[\"postalKey\"] = \"80301:US\"\n",
    "\n",
    "# Create the query headers\n",
    "query_request_headers: dict = {}\n",
    "query_request_headers[\"x-ibm-client-id\"] = EI_CLIENT_ID\n",
    "query_request_headers[\"Authorization\"] = \"Bearer \" + jwt_token\n",
    "\n",
    "# Create the Request object as GET Request with host URL, query parameters and query headers\n",
    "request = requests.Request('GET', EI_API_ENDPOINT, params=query_params, headers=query_request_headers)\n",
    " \n",
    "# Create a Session object and send the request\n",
    "session = requests.Session()\n",
    "response = session.send(request.prepare())\n",
    "\n",
    "if response.text != \"\":\n",
    "    # Get the response as json\n",
    "    response_json = response.json()\n",
    "    \n",
    "    # Get json and convert to dataframe\n",
    "    json_str = json.dumps(response_json)\n",
    "    dict = json.loads(json_str)\n",
    "    dataframe = json_normalize(dict) \n",
    "    \n",
    "    # display\n",
    "    pd.set_option('display.max_colwidth', None)\n",
    "    display(dataframe) \n",
    "else:\n",
    "    print(\"Empty Response\")"
   ]
  },
  {
   "cell_type": "markdown",
   "metadata": {},
   "source": [
    "### <a id='toc1_6_1_'></a>[Analysis](#toc0_)\n",
    "\n",
    "As we can see above, we've retrieved a lot of data pertaining to the specified location. The dataframe above consists of a total of **40 columns** and **167 rows** with all the information needed for the analysis.\n",
    "\n",
    "Now that we have retrieved the data, we can plot it on a **graph** to visualize how the **temparature** and **temperatureDewPoint** relates to each other across different time periods. We'll use the code below.\n",
    "\n",
    "#### <a id='toc1_6_1_1_'></a>[What is temparature?](#toc0_)\n",
    "\n",
    "Temperature is a measure of the thermal energy or heat in an object or environment, indicating how hot or cold it is.\n",
    "\n",
    "Units - Expressed in fahrenheit when units=e, expressed in celsius when units=m, s, or h.\n",
    "\n",
    "Range - (-140) to 140\n",
    "\n",
    "#### <a id='toc1_6_1_2_'></a>[What is temperatureDewPoint?](#toc0_)\n",
    "\n",
    "The temperature at which air must be cooled at constant pressure to reach saturation. The Dew Point is also an indirect measure of the humidity of the air. The Dew Point will never exceed the Temperature. When the Dewpoint and Temperature are equal, clouds or fog will typically form. The closer the values of Temperature and Dew Point, the higher the relative humidity.\n",
    "\n",
    "Units - Expressed in Fahrenheit when units=e, expressed in Celsius when units=m, s, or h.\n",
    "\n",
    "Range - (-80) to 100 (°F) or (-62) to 37 (°C)\n",
    "\n",
    "More information on the parameters can be found in the Environmental Intelligence [documentation](https://www.ibm.com/docs/en/environmental-intel-suite?utm_source=skills_network&utm_content=in_lab_content_link&utm_id=Lab-Snowfall+Removal+Budget+Calculation-v1_1730322876&topic=apis-currents-demand).\n"
   ]
  },
  {
   "cell_type": "code",
   "execution_count": 4,
   "metadata": {},
   "outputs": [
    {
     "data": {
      "text/plain": [
       "<Axes: xlabel='validTimeUtc'>"
      ]
     },
     "execution_count": 4,
     "metadata": {},
     "output_type": "execute_result"
    },
    {
     "data": {
      "image/png": "[encoded data removed]",
      "text/plain": [
       "<Figure size 2000x1000 with 1 Axes>"
      ]
     },
     "metadata": {},
     "output_type": "display_data"
    }
   ],
   "source": [
    "dataframe.plot(x='validTimeUtc',y=['temperature','temperatureDewPoint'],figsize=(20,10))"
   ]
  },
  {
   "cell_type": "markdown",
   "metadata": {},
   "source": [
    "We can now sum up the **precip1Hour** and **snow1Hour** columns' data to get the whole value for precipitation and snow, respectively.\n",
    "\n",
    "#### <a id='toc1_6_1_3_'></a>[What is precip1Hour?](#toc0_)\n",
    "\n",
    "This value represents rolling hour liquid precipitation amount. The amounts presented are a rolling time through the request time (now).\n",
    "\n",
    "Units - Expressed in inches when units=e, expressed in millimeters when units=m, s, or h.\n",
    "\n",
    "#### <a id='toc1_6_1_4_'></a>[What is snow1Hour?](#toc0_)\n",
    "\n",
    "This value represents one-hour snowfall amount. The amounts presented are a rolling time through the request time (now).\n",
    "\n",
    "Units - Expressed in inches when units=e, expressed in centimeters when units=m, s, or h.\n",
    "\n",
    "More information on the parameters can be found in the Environmental Intelligence [documentation](https://www.ibm.com/docs/en/environmental-intel-suite?utm_source=skills_network&utm_content=in_lab_content_link&utm_id=Lab-Snowfall+Removal+Budget+Calculation-v1_1730322876&topic=apis-currents-demand).\n"
   ]
  },
  {
   "cell_type": "code",
   "execution_count": 5,
   "metadata": {},
   "outputs": [
    {
     "name": "stdout",
     "output_type": "stream",
     "text": [
      "marPrecip2023: 0.21000000000000002\n",
      "MarSnow2023: 2.9\n"
     ]
    }
   ],
   "source": [
    "#sum up precip and snow for March\n",
    "marPrecip2023 = dataframe['precip1Hour'].sum()\n",
    "MarSnow2023 = dataframe['snow1Hour'].sum()\n",
    "print(f\"marPrecip2023: {marPrecip2023}\\nMarSnow2023: {MarSnow2023}\")"
   ]
  },
  {
   "cell_type": "markdown",
   "metadata": {},
   "source": [
    "We can now compare the variance between March 2023 and historic averages using the values in the dictionary below.\n"
   ]
  },
  {
   "cell_type": "code",
   "execution_count": 6,
   "metadata": {},
   "outputs": [],
   "source": [
    "# Data in dictionary form\n",
    "data = {\n",
    "    'almanacInterval': [0],\n",
    "    'almanacRecordDate': ['M'],\n",
    "    'almanacRecordPeriod': [101],\n",
    "    'almanacRecordYearMax': [2005],\n",
    "    'almanacRecordYearMin': [1930],\n",
    "    'precipitationAverage': [0.76],\n",
    "    'snowAccumulationAverage': [16.03],\n",
    "    'stationId': [50848],\n",
    "    'stationName': ['BOULDER'],\n",
    "    'temperatureAverageMax': [47],\n",
    "    'temperatureAverageMin': [22],\n",
    "    'temperatureMean': [35],\n",
    "    'temperatureRecordMax': [73],\n",
    "    'temperatureRecordMin': [-33]\n",
    "}\n",
    "\n",
    "# Convert dictionary to DataFrame\n",
    "snowfall_normal_df = pd.DataFrame(data)"
   ]
  },
  {
   "cell_type": "markdown",
   "metadata": {},
   "source": [
    "Let's display the **snowAccumulationAverage** from the above data.\n"
   ]
  },
  {
   "cell_type": "code",
   "execution_count": 7,
   "metadata": {},
   "outputs": [
    {
     "name": "stdout",
     "output_type": "stream",
     "text": [
      "Mar_normal_snow: 16.03\n"
     ]
    }
   ],
   "source": [
    "Mar_normal_snow =  snowfall_normal_df['snowAccumulationAverage'].item()\n",
    "print(f\"Mar_normal_snow: {Mar_normal_snow}\")"
   ]
  },
  {
   "cell_type": "markdown",
   "metadata": {},
   "source": [
    "Perform the calculations below to get the **costs** incurred to remove the accumulated snow.\n"
   ]
  },
  {
   "cell_type": "code",
   "execution_count": 8,
   "metadata": {},
   "outputs": [
    {
     "name": "stdout",
     "output_type": "stream",
     "text": [
      "PercentAnnualSnowInMar: 0.03\n",
      "Mar_percentnormal: 0.18\n"
     ]
    }
   ],
   "source": [
    "# We know that Boulder's average snowfall is 88.3\" and that the annual snow removal budget is $2M\n",
    "\n",
    "PercentAnnualSnowInMar = round((MarSnow2023 / 88.3),2)\n",
    "Mar_percentnormal = round((MarSnow2023 / Mar_normal_snow),2)\n",
    "print(f\"PercentAnnualSnowInMar: {PercentAnnualSnowInMar}\\nMar_percentnormal: {Mar_percentnormal}\")"
   ]
  },
  {
   "cell_type": "markdown",
   "metadata": {},
   "source": [
    "Get the normal cost of snow removal in March using the data we have.\n"
   ]
  },
  {
   "cell_type": "code",
   "execution_count": 9,
   "metadata": {},
   "outputs": [
    {
     "name": "stdout",
     "output_type": "stream",
     "text": [
      "round(normal_Mar_cost,2): 363080.41\n"
     ]
    }
   ],
   "source": [
    "# Normal Cost of snow removal in the month of March\n",
    "normal_Mar_cost = 2000000 * (Mar_normal_snow / 88.3)\n",
    "print(f\"round(normal_Mar_cost,2): {round(normal_Mar_cost,2)}\")"
   ]
  },
  {
   "cell_type": "markdown",
   "metadata": {},
   "source": [
    "Now that we have the normal cost for snow removal in March, let's calculate the cost of March 2023 using the following code snippet.\n"
   ]
  },
  {
   "cell_type": "code",
   "execution_count": 10,
   "metadata": {},
   "outputs": [
    {
     "name": "stdout",
     "output_type": "stream",
     "text": [
      "round(Mar2023_cost,2): 65354.47\n"
     ]
    }
   ],
   "source": [
    "#cost of snow removal in the month of March 2023\n",
    "Mar2023_cost = normal_Mar_cost * Mar_percentnormal\n",
    "print(f\"round(Mar2023_cost,2): {round(Mar2023_cost,2)}\")"
   ]
  },
  {
   "cell_type": "markdown",
   "metadata": {},
   "source": [
    "Let's calculate the **difference** in **snow removal costs** in **March 2023** vs a **normal March in the City of Boulder**.\n"
   ]
  },
  {
   "cell_type": "code",
   "execution_count": 11,
   "metadata": {},
   "outputs": [
    {
     "name": "stdout",
     "output_type": "stream",
     "text": [
      "2023 low snow totals reduced the City of Boulder's spend by $297725.93\n"
     ]
    }
   ],
   "source": [
    "#2023 budget \n",
    "delta = normal_Mar_cost - Mar2023_cost\n",
    "print (f\"2023 low snow totals reduced the City of Boulder's spend by ${round(delta,2)}\")"
   ]
  },
  {
   "cell_type": "markdown",
   "metadata": {},
   "source": [
    "## <a id='toc1_7_'></a>[Interested to learn more?](#toc0_)\n",
    "\n",
    "Use the following resources to learn more about Environmental Intelligence:\n",
    "\n",
    "- <a href=\"https://developer.ibm.com/learningpaths/environmental-intelligence?utm_source=sn&utm_medium=gp&utm_campaign=ei_apis&utm_content=snowfall_removal_next_steps\" target=\"_blank\">Environmental Intelligence learning path</a>\n",
    "- <a href=\"https://developer.ibm.com/blogs/ibm-environmental-intelligence?utm_source=sn&utm_medium=gp&utm_campaign=ei_apis&utm_content=snow_removal_next_steps\" target=\"_blank\">Environmental Intelligence: A developers toolkit for sustainable innovation</a> \n",
    "- <a href=\"https://www.ibm.com/products/environmental-intelligence/?utm_source=skills_network&utm_content=in_lab_content_link&utm_id=Lab-Snowfall+Removal+Budget+Calculation-v1\">IBM Environmental Intelligence APIs</a> \n"
   ]
  }
 ],
 "metadata": {
  "kernelspec": {
   "display_name": "Python 3 (ipykernel)",
   "language": "python",
   "name": "python3"
  },
  "language_info": {
   "codemirror_mode": {
    "name": "ipython",
    "version": 3
   },
   "file_extension": ".py",
   "mimetype": "text/x-python",
   "name": "python",
   "nbconvert_exporter": "python",
   "pygments_lexer": "ipython3",
   "version": "3.11.2"
  },
  "prev_pub_hash": "df524512c5be6e15acced022d85e75eb05edad609dd89693535d23cf0ee0413d"
 },
 "nbformat": 4,
 "nbformat_minor": 4
}
