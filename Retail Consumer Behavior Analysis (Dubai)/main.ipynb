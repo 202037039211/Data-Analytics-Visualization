{
 "cells": [
  {
   "cell_type": "code",
   "execution_count": 4,
   "id": "ba4b25f3-c7b3-455c-ada6-74b263921b77",
   "metadata": {},
   "outputs": [
    {
     "name": "stdout",
     "output_type": "stream",
     "text": [
      "Collecting pandas\n",
      "  Using cached pandas-2.2.3-cp311-cp311-manylinux_2_17_x86_64.manylinux2014_x86_64.whl (13.1 MB)\n",
      "Collecting numpy>=1.23.2\n",
      "  Using cached numpy-2.1.3-cp311-cp311-manylinux_2_17_x86_64.manylinux2014_x86_64.whl (16.3 MB)\n",
      "Requirement already satisfied: python-dateutil>=2.8.2 in /home/debian/venv/lib/python3.11/site-packages (from pandas) (2.9.0.post0)\n",
      "Collecting pytz>=2020.1\n",
      "  Using cached pytz-2024.2-py2.py3-none-any.whl (508 kB)\n",
      "Collecting tzdata>=2022.7\n",
      "  Using cached tzdata-2024.2-py2.py3-none-any.whl (346 kB)\n",
      "Requirement already satisfied: six>=1.5 in /home/debian/venv/lib/python3.11/site-packages (from python-dateutil>=2.8.2->pandas) (1.16.0)\n",
      "Installing collected packages: pytz, tzdata, numpy, pandas\n",
      "Successfully installed numpy-2.1.3 pandas-2.2.3 pytz-2024.2 tzdata-2024.2\n"
     ]
    }
   ],
   "source": [
    "!pip install pandas"
   ]
  },
  {
   "cell_type": "code",
   "execution_count": 13,
   "id": "faf53638-8317-413b-934a-2562769cdb65",
   "metadata": {},
   "outputs": [
    {
     "name": "stdout",
     "output_type": "stream",
     "text": [
      "Collecting matplotlib\n",
      "  Using cached matplotlib-3.9.3-cp311-cp311-manylinux_2_17_x86_64.manylinux2014_x86_64.whl (8.3 MB)\n",
      "Collecting contourpy>=1.0.1\n",
      "  Using cached contourpy-1.3.1-cp311-cp311-manylinux_2_17_x86_64.manylinux2014_x86_64.whl (326 kB)\n",
      "Collecting cycler>=0.10\n",
      "  Using cached cycler-0.12.1-py3-none-any.whl (8.3 kB)\n",
      "Collecting fonttools>=4.22.0\n",
      "  Using cached fonttools-4.55.0-cp311-cp311-manylinux_2_17_x86_64.manylinux2014_x86_64.whl (4.9 MB)\n",
      "Collecting kiwisolver>=1.3.1\n",
      "  Using cached kiwisolver-1.4.7-cp311-cp311-manylinux_2_17_x86_64.manylinux2014_x86_64.whl (1.4 MB)\n",
      "Requirement already satisfied: numpy>=1.23 in /home/debian/venv/lib/python3.11/site-packages (from matplotlib) (2.1.3)\n",
      "Requirement already satisfied: packaging>=20.0 in /home/debian/venv/lib/python3.11/site-packages (from matplotlib) (24.2)\n",
      "Collecting pillow>=8\n",
      "  Using cached pillow-11.0.0-cp311-cp311-manylinux_2_28_x86_64.whl (4.4 MB)\n",
      "Collecting pyparsing>=2.3.1\n",
      "  Using cached pyparsing-3.2.0-py3-none-any.whl (106 kB)\n",
      "Requirement already satisfied: python-dateutil>=2.7 in /home/debian/venv/lib/python3.11/site-packages (from matplotlib) (2.9.0.post0)\n",
      "Requirement already satisfied: six>=1.5 in /home/debian/venv/lib/python3.11/site-packages (from python-dateutil>=2.7->matplotlib) (1.16.0)\n",
      "Installing collected packages: pyparsing, pillow, kiwisolver, fonttools, cycler, contourpy, matplotlib\n",
      "Successfully installed contourpy-1.3.1 cycler-0.12.1 fonttools-4.55.0 kiwisolver-1.4.7 matplotlib-3.9.3 pillow-11.0.0 pyparsing-3.2.0\n"
     ]
    }
   ],
   "source": [
    "!pip install matplotlib"
   ]
  },
  {
   "cell_type": "code",
   "execution_count": 7,
   "id": "a2ddc748-eb33-4367-b4e4-e778f4cc0eba",
   "metadata": {},
   "outputs": [
    {
     "name": "stdout",
     "output_type": "stream",
     "text": [
      "/home/debian/Documents/profil/projects/Data Analytics & Visualization\n"
     ]
    }
   ],
   "source": [
    "import os\n",
    "print(os.getcwd())"
   ]
  },
  {
   "cell_type": "code",
   "execution_count": 8,
   "id": "8bea37ff-99df-4f70-acb0-847bbec491b3",
   "metadata": {},
   "outputs": [
    {
     "name": "stdout",
     "output_type": "stream",
     "text": [
      "File loaded successfully!\n",
      "     transaction_id  procedure_id  trans_group_id trans_group_ar  \\\n",
      "0   1-11-2024-10138            11               1        مبايعات   \n",
      "1       3-9-2002-39             9               3           هبات   \n",
      "2     2-14-2016-501            14               2           رهون   \n",
      "3   1-11-2016-12930            11               1        مبايعات   \n",
      "4  1-11-2005-300028            11               1        مبايعات   \n",
      "\n",
      "  trans_group_en procedure_name_ar procedure_name_en instance_date  \\\n",
      "0          Sales               بيع              Sell    19-03-2024   \n",
      "1          Gifts               هبه             Grant    25-03-2002   \n",
      "2      Mortgages         تعديل رهن   Modify Mortgage    23-05-2016   \n",
      "3          Sales               بيع              Sell    02-11-2016   \n",
      "4          Sales               بيع              Sell    28-02-2005   \n",
      "\n",
      "   property_type_id property_type_ar  ... rooms_en  has_parking  \\\n",
      "0                 4             فيلا  ...      NaN            0   \n",
      "1                 1              أرض  ...      NaN            0   \n",
      "2                 2             مبنى  ...      NaN            0   \n",
      "3                 4             فيلا  ...      NaN            0   \n",
      "4                 4             فيلا  ...      NaN            0   \n",
      "\n",
      "  procedure_area actual_worth meter_sale_price rent_value  meter_rent_price  \\\n",
      "0        1305.29    5769000.0          4419.71        NaN               NaN   \n",
      "1        1466.94    1105300.0           753.47        NaN               NaN   \n",
      "2        2879.99   84000000.0         29166.77        NaN               NaN   \n",
      "3         390.00    2089900.0          5358.72        NaN               NaN   \n",
      "4         396.09     511612.0          1291.66        NaN               NaN   \n",
      "\n",
      "  no_of_parties_role_1 no_of_parties_role_2  no_of_parties_role_3  \n",
      "0                  8.0                  1.0                   0.0  \n",
      "1                  1.0                  1.0                   0.0  \n",
      "2                  1.0                  1.0                   0.0  \n",
      "3                  1.0                  1.0                   0.0  \n",
      "4                  1.0                  1.0                   0.0  \n",
      "\n",
      "[5 rows x 46 columns]\n"
     ]
    }
   ],
   "source": [
    "import pandas as pd\n",
    "\n",
    "try:\n",
    "    df = pd.read_csv('Transactions.csv', encoding='utf-8')\n",
    "    print(\"File loaded successfully!\")\n",
    "    print(df.head())\n",
    "except FileNotFoundError:\n",
    "    print(\"File not found. Please check the file path.\")\n",
    "except Exception as e:\n",
    "    print(f\"Error loading the file: {e}\")"
   ]
  },
  {
   "cell_type": "code",
   "execution_count": 3,
   "id": "1ec7256e-55a6-47b9-9d95-8f46f54297d3",
   "metadata": {},
   "outputs": [
    {
     "name": "stdout",
     "output_type": "stream",
     "text": [
      "Data loaded successfully.\n",
      "     transaction_id  procedure_id  trans_group_id trans_group_ar  \\\n",
      "0   1-11-2024-10138            11               1        مبايعات   \n",
      "1       3-9-2002-39             9               3           هبات   \n",
      "2     2-14-2016-501            14               2           رهون   \n",
      "3   1-11-2016-12930            11               1        مبايعات   \n",
      "4  1-11-2005-300028            11               1        مبايعات   \n",
      "\n",
      "  trans_group_en procedure_name_ar procedure_name_en instance_date  \\\n",
      "0          Sales               بيع              Sell    19-03-2024   \n",
      "1          Gifts               هبه             Grant    25-03-2002   \n",
      "2      Mortgages         تعديل رهن   Modify Mortgage    23-05-2016   \n",
      "3          Sales               بيع              Sell    02-11-2016   \n",
      "4          Sales               بيع              Sell    28-02-2005   \n",
      "\n",
      "   property_type_id property_type_ar  ... rooms_en  has_parking  \\\n",
      "0                 4             فيلا  ...      NaN            0   \n",
      "1                 1              أرض  ...      NaN            0   \n",
      "2                 2             مبنى  ...      NaN            0   \n",
      "3                 4             فيلا  ...      NaN            0   \n",
      "4                 4             فيلا  ...      NaN            0   \n",
      "\n",
      "  procedure_area actual_worth meter_sale_price rent_value  meter_rent_price  \\\n",
      "0        1305.29    5769000.0          4419.71        NaN               NaN   \n",
      "1        1466.94    1105300.0           753.47        NaN               NaN   \n",
      "2        2879.99   84000000.0         29166.77        NaN               NaN   \n",
      "3         390.00    2089900.0          5358.72        NaN               NaN   \n",
      "4         396.09     511612.0          1291.66        NaN               NaN   \n",
      "\n",
      "  no_of_parties_role_1 no_of_parties_role_2  no_of_parties_role_3  \n",
      "0                  8.0                  1.0                   0.0  \n",
      "1                  1.0                  1.0                   0.0  \n",
      "2                  1.0                  1.0                   0.0  \n",
      "3                  1.0                  1.0                   0.0  \n",
      "4                  1.0                  1.0                   0.0  \n",
      "\n",
      "[5 rows x 46 columns]\n"
     ]
    }
   ],
   "source": [
    "if df.empty:\n",
    "    print(\"The DataFrame is empty. Check if the file has content.\")\n",
    "else:\n",
    "    print(\"Data loaded successfully.\")\n",
    "    print(df.head())"
   ]
  },
  {
   "cell_type": "code",
   "execution_count": 4,
   "id": "ae128c07-0b38-4dd2-b46a-7def90deb045",
   "metadata": {},
   "outputs": [
    {
     "name": "stdout",
     "output_type": "stream",
     "text": [
      "Columns in the dataset:\n",
      "Index(['transaction_id', 'procedure_id', 'trans_group_id', 'trans_group_ar',\n",
      "       'trans_group_en', 'procedure_name_ar', 'procedure_name_en',\n",
      "       'instance_date', 'property_type_id', 'property_type_ar',\n",
      "       'property_type_en', 'property_sub_type_id', 'property_sub_type_ar',\n",
      "       'property_sub_type_en', 'property_usage_ar', 'property_usage_en',\n",
      "       'reg_type_id', 'reg_type_ar', 'reg_type_en', 'area_id', 'area_name_ar',\n",
      "       'area_name_en', 'building_name_ar', 'building_name_en',\n",
      "       'project_number', 'project_name_ar', 'project_name_en',\n",
      "       'master_project_en', 'master_project_ar', 'nearest_landmark_ar',\n",
      "       'nearest_landmark_en', 'nearest_metro_ar', 'nearest_metro_en',\n",
      "       'nearest_mall_ar', 'nearest_mall_en', 'rooms_ar', 'rooms_en',\n",
      "       'has_parking', 'procedure_area', 'actual_worth', 'meter_sale_price',\n",
      "       'rent_value', 'meter_rent_price', 'no_of_parties_role_1',\n",
      "       'no_of_parties_role_2', 'no_of_parties_role_3'],\n",
      "      dtype='object')\n"
     ]
    }
   ],
   "source": [
    "print(\"Columns in the dataset:\")\n",
    "print(df.columns)"
   ]
  },
  {
   "cell_type": "code",
   "execution_count": 5,
   "id": "ef960d20-1e9e-4dae-8768-b0a4f4cb8acf",
   "metadata": {},
   "outputs": [
    {
     "data": {
      "text/html": [
       "<div>\n",
       "<style scoped>\n",
       "    .dataframe tbody tr th:only-of-type {\n",
       "        vertical-align: middle;\n",
       "    }\n",
       "\n",
       "    .dataframe tbody tr th {\n",
       "        vertical-align: top;\n",
       "    }\n",
       "\n",
       "    .dataframe thead th {\n",
       "        text-align: right;\n",
       "    }\n",
       "</style>\n",
       "<table border=\"1\" class=\"dataframe\">\n",
       "  <thead>\n",
       "    <tr style=\"text-align: right;\">\n",
       "      <th></th>\n",
       "      <th>transaction_id</th>\n",
       "      <th>procedure_id</th>\n",
       "      <th>trans_group_id</th>\n",
       "      <th>trans_group_ar</th>\n",
       "      <th>trans_group_en</th>\n",
       "      <th>procedure_name_ar</th>\n",
       "      <th>procedure_name_en</th>\n",
       "      <th>instance_date</th>\n",
       "      <th>property_type_id</th>\n",
       "      <th>property_type_ar</th>\n",
       "      <th>...</th>\n",
       "      <th>rooms_en</th>\n",
       "      <th>has_parking</th>\n",
       "      <th>procedure_area</th>\n",
       "      <th>actual_worth</th>\n",
       "      <th>meter_sale_price</th>\n",
       "      <th>rent_value</th>\n",
       "      <th>meter_rent_price</th>\n",
       "      <th>no_of_parties_role_1</th>\n",
       "      <th>no_of_parties_role_2</th>\n",
       "      <th>no_of_parties_role_3</th>\n",
       "    </tr>\n",
       "  </thead>\n",
       "  <tbody>\n",
       "    <tr>\n",
       "      <th>0</th>\n",
       "      <td>1-11-2024-10138</td>\n",
       "      <td>11</td>\n",
       "      <td>1</td>\n",
       "      <td>مبايعات</td>\n",
       "      <td>Sales</td>\n",
       "      <td>بيع</td>\n",
       "      <td>Sell</td>\n",
       "      <td>19-03-2024</td>\n",
       "      <td>4</td>\n",
       "      <td>فيلا</td>\n",
       "      <td>...</td>\n",
       "      <td>NaN</td>\n",
       "      <td>0</td>\n",
       "      <td>1305.29</td>\n",
       "      <td>5769000.0</td>\n",
       "      <td>4419.71</td>\n",
       "      <td>NaN</td>\n",
       "      <td>NaN</td>\n",
       "      <td>8.0</td>\n",
       "      <td>1.0</td>\n",
       "      <td>0.0</td>\n",
       "    </tr>\n",
       "    <tr>\n",
       "      <th>1</th>\n",
       "      <td>3-9-2002-39</td>\n",
       "      <td>9</td>\n",
       "      <td>3</td>\n",
       "      <td>هبات</td>\n",
       "      <td>Gifts</td>\n",
       "      <td>هبه</td>\n",
       "      <td>Grant</td>\n",
       "      <td>25-03-2002</td>\n",
       "      <td>1</td>\n",
       "      <td>أرض</td>\n",
       "      <td>...</td>\n",
       "      <td>NaN</td>\n",
       "      <td>0</td>\n",
       "      <td>1466.94</td>\n",
       "      <td>1105300.0</td>\n",
       "      <td>753.47</td>\n",
       "      <td>NaN</td>\n",
       "      <td>NaN</td>\n",
       "      <td>1.0</td>\n",
       "      <td>1.0</td>\n",
       "      <td>0.0</td>\n",
       "    </tr>\n",
       "    <tr>\n",
       "      <th>2</th>\n",
       "      <td>2-14-2016-501</td>\n",
       "      <td>14</td>\n",
       "      <td>2</td>\n",
       "      <td>رهون</td>\n",
       "      <td>Mortgages</td>\n",
       "      <td>تعديل رهن</td>\n",
       "      <td>Modify Mortgage</td>\n",
       "      <td>23-05-2016</td>\n",
       "      <td>2</td>\n",
       "      <td>مبنى</td>\n",
       "      <td>...</td>\n",
       "      <td>NaN</td>\n",
       "      <td>0</td>\n",
       "      <td>2879.99</td>\n",
       "      <td>84000000.0</td>\n",
       "      <td>29166.77</td>\n",
       "      <td>NaN</td>\n",
       "      <td>NaN</td>\n",
       "      <td>1.0</td>\n",
       "      <td>1.0</td>\n",
       "      <td>0.0</td>\n",
       "    </tr>\n",
       "    <tr>\n",
       "      <th>3</th>\n",
       "      <td>1-11-2016-12930</td>\n",
       "      <td>11</td>\n",
       "      <td>1</td>\n",
       "      <td>مبايعات</td>\n",
       "      <td>Sales</td>\n",
       "      <td>بيع</td>\n",
       "      <td>Sell</td>\n",
       "      <td>02-11-2016</td>\n",
       "      <td>4</td>\n",
       "      <td>فيلا</td>\n",
       "      <td>...</td>\n",
       "      <td>NaN</td>\n",
       "      <td>0</td>\n",
       "      <td>390.00</td>\n",
       "      <td>2089900.0</td>\n",
       "      <td>5358.72</td>\n",
       "      <td>NaN</td>\n",
       "      <td>NaN</td>\n",
       "      <td>1.0</td>\n",
       "      <td>1.0</td>\n",
       "      <td>0.0</td>\n",
       "    </tr>\n",
       "    <tr>\n",
       "      <th>4</th>\n",
       "      <td>1-11-2005-300028</td>\n",
       "      <td>11</td>\n",
       "      <td>1</td>\n",
       "      <td>مبايعات</td>\n",
       "      <td>Sales</td>\n",
       "      <td>بيع</td>\n",
       "      <td>Sell</td>\n",
       "      <td>28-02-2005</td>\n",
       "      <td>4</td>\n",
       "      <td>فيلا</td>\n",
       "      <td>...</td>\n",
       "      <td>NaN</td>\n",
       "      <td>0</td>\n",
       "      <td>396.09</td>\n",
       "      <td>511612.0</td>\n",
       "      <td>1291.66</td>\n",
       "      <td>NaN</td>\n",
       "      <td>NaN</td>\n",
       "      <td>1.0</td>\n",
       "      <td>1.0</td>\n",
       "      <td>0.0</td>\n",
       "    </tr>\n",
       "  </tbody>\n",
       "</table>\n",
       "<p>5 rows × 46 columns</p>\n",
       "</div>"
      ],
      "text/plain": [
       "     transaction_id  procedure_id  trans_group_id trans_group_ar  \\\n",
       "0   1-11-2024-10138            11               1        مبايعات   \n",
       "1       3-9-2002-39             9               3           هبات   \n",
       "2     2-14-2016-501            14               2           رهون   \n",
       "3   1-11-2016-12930            11               1        مبايعات   \n",
       "4  1-11-2005-300028            11               1        مبايعات   \n",
       "\n",
       "  trans_group_en procedure_name_ar procedure_name_en instance_date  \\\n",
       "0          Sales               بيع              Sell    19-03-2024   \n",
       "1          Gifts               هبه             Grant    25-03-2002   \n",
       "2      Mortgages         تعديل رهن   Modify Mortgage    23-05-2016   \n",
       "3          Sales               بيع              Sell    02-11-2016   \n",
       "4          Sales               بيع              Sell    28-02-2005   \n",
       "\n",
       "   property_type_id property_type_ar  ... rooms_en  has_parking  \\\n",
       "0                 4             فيلا  ...      NaN            0   \n",
       "1                 1              أرض  ...      NaN            0   \n",
       "2                 2             مبنى  ...      NaN            0   \n",
       "3                 4             فيلا  ...      NaN            0   \n",
       "4                 4             فيلا  ...      NaN            0   \n",
       "\n",
       "  procedure_area actual_worth meter_sale_price rent_value  meter_rent_price  \\\n",
       "0        1305.29    5769000.0          4419.71        NaN               NaN   \n",
       "1        1466.94    1105300.0           753.47        NaN               NaN   \n",
       "2        2879.99   84000000.0         29166.77        NaN               NaN   \n",
       "3         390.00    2089900.0          5358.72        NaN               NaN   \n",
       "4         396.09     511612.0          1291.66        NaN               NaN   \n",
       "\n",
       "  no_of_parties_role_1 no_of_parties_role_2  no_of_parties_role_3  \n",
       "0                  8.0                  1.0                   0.0  \n",
       "1                  1.0                  1.0                   0.0  \n",
       "2                  1.0                  1.0                   0.0  \n",
       "3                  1.0                  1.0                   0.0  \n",
       "4                  1.0                  1.0                   0.0  \n",
       "\n",
       "[5 rows x 46 columns]"
      ]
     },
     "metadata": {},
     "output_type": "display_data"
    }
   ],
   "source": [
    "from IPython.display import display\n",
    "display(df.head())"
   ]
  },
  {
   "cell_type": "code",
   "execution_count": 9,
   "id": "eabd17b1-aed3-4b53-a952-2efe9feee10c",
   "metadata": {},
   "outputs": [
    {
     "name": "stdout",
     "output_type": "stream",
     "text": [
      "     transaction_id  procedure_id  trans_group_id trans_group_ar  \\\n",
      "0   1-11-2024-10138            11               1        مبايعات   \n",
      "1       3-9-2002-39             9               3           هبات   \n",
      "2     2-14-2016-501            14               2           رهون   \n",
      "3   1-11-2016-12930            11               1        مبايعات   \n",
      "4  1-11-2005-300028            11               1        مبايعات   \n",
      "\n",
      "  trans_group_en procedure_name_ar procedure_name_en instance_date  \\\n",
      "0          Sales               بيع              Sell    19-03-2024   \n",
      "1          Gifts               هبه             Grant    25-03-2002   \n",
      "2      Mortgages         تعديل رهن   Modify Mortgage    23-05-2016   \n",
      "3          Sales               بيع              Sell    02-11-2016   \n",
      "4          Sales               بيع              Sell    28-02-2005   \n",
      "\n",
      "   property_type_id property_type_ar  ... rooms_en  has_parking  \\\n",
      "0                 4             فيلا  ...      NaN            0   \n",
      "1                 1              أرض  ...      NaN            0   \n",
      "2                 2             مبنى  ...      NaN            0   \n",
      "3                 4             فيلا  ...      NaN            0   \n",
      "4                 4             فيلا  ...      NaN            0   \n",
      "\n",
      "  procedure_area actual_worth meter_sale_price rent_value  meter_rent_price  \\\n",
      "0        1305.29    5769000.0          4419.71        NaN               NaN   \n",
      "1        1466.94    1105300.0           753.47        NaN               NaN   \n",
      "2        2879.99   84000000.0         29166.77        NaN               NaN   \n",
      "3         390.00    2089900.0          5358.72        NaN               NaN   \n",
      "4         396.09     511612.0          1291.66        NaN               NaN   \n",
      "\n",
      "  no_of_parties_role_1 no_of_parties_role_2  no_of_parties_role_3  \n",
      "0                  8.0                  1.0                   0.0  \n",
      "1                  1.0                  1.0                   0.0  \n",
      "2                  1.0                  1.0                   0.0  \n",
      "3                  1.0                  1.0                   0.0  \n",
      "4                  1.0                  1.0                   0.0  \n",
      "\n",
      "[5 rows x 46 columns]\n",
      "<class 'pandas.core.frame.DataFrame'>\n",
      "RangeIndex: 1346727 entries, 0 to 1346726\n",
      "Data columns (total 46 columns):\n",
      " #   Column                Non-Null Count    Dtype  \n",
      "---  ------                --------------    -----  \n",
      " 0   transaction_id        1346727 non-null  object \n",
      " 1   procedure_id          1346727 non-null  int64  \n",
      " 2   trans_group_id        1346727 non-null  int64  \n",
      " 3   trans_group_ar        1346727 non-null  object \n",
      " 4   trans_group_en        1346727 non-null  object \n",
      " 5   procedure_name_ar     1346727 non-null  object \n",
      " 6   procedure_name_en     1346727 non-null  object \n",
      " 7   instance_date         1346727 non-null  object \n",
      " 8   property_type_id      1346727 non-null  int64  \n",
      " 9   property_type_ar      1346727 non-null  object \n",
      " 10  property_type_en      1346727 non-null  object \n",
      " 11  property_sub_type_id  1057737 non-null  float64\n",
      " 12  property_sub_type_ar  1057737 non-null  object \n",
      " 13  property_sub_type_en  1057737 non-null  object \n",
      " 14  property_usage_ar     1346727 non-null  object \n",
      " 15  property_usage_en     1346727 non-null  object \n",
      " 16  reg_type_id           1346727 non-null  int64  \n",
      " 17  reg_type_ar           1346727 non-null  object \n",
      " 18  reg_type_en           1346727 non-null  object \n",
      " 19  area_id               1346727 non-null  int64  \n",
      " 20  area_name_ar          1346727 non-null  object \n",
      " 21  area_name_en          1346727 non-null  object \n",
      " 22  building_name_ar      938231 non-null   object \n",
      " 23  building_name_en      938662 non-null   object \n",
      " 24  project_number        927651 non-null   float64\n",
      " 25  project_name_ar       927651 non-null   object \n",
      " 26  project_name_en       927651 non-null   object \n",
      " 27  master_project_en     1108726 non-null  object \n",
      " 28  master_project_ar     1108674 non-null  object \n",
      " 29  nearest_landmark_ar   1132695 non-null  object \n",
      " 30  nearest_landmark_en   1132695 non-null  object \n",
      " 31  nearest_metro_ar      989575 non-null   object \n",
      " 32  nearest_metro_en      989575 non-null   object \n",
      " 33  nearest_mall_ar       983509 non-null   object \n",
      " 34  nearest_mall_en       983509 non-null   object \n",
      " 35  rooms_ar              1038919 non-null  object \n",
      " 36  rooms_en              1038919 non-null  object \n",
      " 37  has_parking           1346727 non-null  int64  \n",
      " 38  procedure_area        1346727 non-null  float64\n",
      " 39  actual_worth          1346727 non-null  float64\n",
      " 40  meter_sale_price      1346727 non-null  float64\n",
      " 41  rent_value            35264 non-null    float64\n",
      " 42  meter_rent_price      35264 non-null    float64\n",
      " 43  no_of_parties_role_1  1345802 non-null  float64\n",
      " 44  no_of_parties_role_2  1345802 non-null  float64\n",
      " 45  no_of_parties_role_3  1345802 non-null  float64\n",
      "dtypes: float64(10), int64(6), object(30)\n",
      "memory usage: 472.6+ MB\n",
      "None\n",
      "transaction_id                0\n",
      "procedure_id                  0\n",
      "trans_group_id                0\n",
      "trans_group_ar                0\n",
      "trans_group_en                0\n",
      "procedure_name_ar             0\n",
      "procedure_name_en             0\n",
      "instance_date                 0\n",
      "property_type_id              0\n",
      "property_type_ar              0\n",
      "property_type_en              0\n",
      "property_sub_type_id     288990\n",
      "property_sub_type_ar     288990\n",
      "property_sub_type_en     288990\n",
      "property_usage_ar             0\n",
      "property_usage_en             0\n",
      "reg_type_id                   0\n",
      "reg_type_ar                   0\n",
      "reg_type_en                   0\n",
      "area_id                       0\n",
      "area_name_ar                  0\n",
      "area_name_en                  0\n",
      "building_name_ar         408496\n",
      "building_name_en         408065\n",
      "project_number           419076\n",
      "project_name_ar          419076\n",
      "project_name_en          419076\n",
      "master_project_en        238001\n",
      "master_project_ar        238053\n",
      "nearest_landmark_ar      214032\n",
      "nearest_landmark_en      214032\n",
      "nearest_metro_ar         357152\n",
      "nearest_metro_en         357152\n",
      "nearest_mall_ar          363218\n",
      "nearest_mall_en          363218\n",
      "rooms_ar                 307808\n",
      "rooms_en                 307808\n",
      "has_parking                   0\n",
      "procedure_area                0\n",
      "actual_worth                  0\n",
      "meter_sale_price              0\n",
      "rent_value              1311463\n",
      "meter_rent_price        1311463\n",
      "no_of_parties_role_1        925\n",
      "no_of_parties_role_2        925\n",
      "no_of_parties_role_3        925\n",
      "dtype: int64\n"
     ]
    }
   ],
   "source": [
    "import pandas as pd\n",
    "\n",
    "df = pd.read_csv('Transactions.csv', encoding='utf-8')\n",
    "\n",
    "print(df.head())\n",
    "\n",
    "print(df.info())\n",
    "\n",
    "print(df.isnull().sum())"
   ]
  },
  {
   "cell_type": "code",
   "execution_count": 10,
   "id": "b1aa3e92-7f83-418f-9cf6-64351a92fae5",
   "metadata": {},
   "outputs": [
    {
     "name": "stdout",
     "output_type": "stream",
     "text": [
      "     transaction_id procedure_name_en instance_date  actual_worth\n",
      "0   1-11-2024-10138              Sell    19-03-2024     5769000.0\n",
      "1       3-9-2002-39             Grant    25-03-2002     1105300.0\n",
      "2     2-14-2016-501   Modify Mortgage    23-05-2016    84000000.0\n",
      "3   1-11-2016-12930              Sell    02-11-2016     2089900.0\n",
      "4  1-11-2005-300028              Sell    28-02-2005      511612.0\n"
     ]
    }
   ],
   "source": [
    "import pandas as pd\n",
    "\n",
    "columns_to_use = ['transaction_id', 'procedure_name_en', 'instance_date', 'actual_worth']\n",
    "df = pd.read_csv('Transactions.csv', usecols=columns_to_use, low_memory=False)\n",
    "\n",
    "print(df.head())"
   ]
  },
  {
   "cell_type": "code",
   "execution_count": 11,
   "id": "81ae18f2-6ab9-4b71-90db-8bbe69571d31",
   "metadata": {
    "scrolled": true
   },
   "outputs": [
    {
     "name": "stdout",
     "output_type": "stream",
     "text": [
      "<class 'pandas.core.frame.DataFrame'>\n",
      "Index: 1346723 entries, 0 to 1346726\n",
      "Data columns (total 4 columns):\n",
      " #   Column             Non-Null Count    Dtype         \n",
      "---  ------             --------------    -----         \n",
      " 0   transaction_id     1346723 non-null  object        \n",
      " 1   procedure_name_en  1346723 non-null  object        \n",
      " 2   instance_date      1346723 non-null  datetime64[ns]\n",
      " 3   actual_worth       1346723 non-null  float64       \n",
      "dtypes: datetime64[ns](1), float64(1), object(2)\n",
      "memory usage: 51.4+ MB\n",
      "None\n"
     ]
    }
   ],
   "source": [
    "import pandas as pd\n",
    "\n",
    "df['instance_date'] = pd.to_datetime(df['instance_date'], errors='coerce', dayfirst=True)\n",
    "\n",
    "df = df.dropna(subset=['instance_date', 'actual_worth'])\n",
    "df = df.drop_duplicates()\n",
    "\n",
    "print(df.info())"
   ]
  },
  {
   "cell_type": "code",
   "execution_count": 14,
   "id": "3e341fa0-a1cd-4269-a9a5-2b0b3a3421bd",
   "metadata": {
    "scrolled": true
   },
   "outputs": [
    {
     "name": "stdout",
     "output_type": "stream",
     "text": [
      "procedure_name_en\n",
      "Sell                         427701\n",
      "Sell - Pre registration      406245\n",
      "Mortgage Registration        185090\n",
      "Delayed Sell                 122345\n",
      "Lease to Own Registration     56807\n",
      "Grant                         45047\n",
      "Modify Mortgage               19073\n",
      "Delayed Mortgage              13407\n",
      "Development Registration      11967\n",
      "Sell Development              10387\n",
      "Name: count, dtype: int64\n"
     ]
    },
    {
     "data": {
      "text/plain": [
       "<Axes: title={'center': 'Top 10 Purchased Categories'}, xlabel='procedure_name_en'>"
      ]
     },
     "execution_count": 14,
     "metadata": {},
     "output_type": "execute_result"
    },
    {
     "data": {
      "image/png": "[encoded data removed]",
      "text/plain": [
       "<Figure size 640x480 with 1 Axes>"
      ]
     },
     "metadata": {},
     "output_type": "display_data"
    }
   ],
   "source": [
    "category_counts = df['procedure_name_en'].value_counts().head(10)\n",
    "print(category_counts)\n",
    "\n",
    "category_counts.plot(kind='bar', title='Top 10 Purchased Categories')"
   ]
  },
  {
   "cell_type": "code",
   "execution_count": 15,
   "id": "d8d980f4-5f75-42a0-b835-cdc266c6771b",
   "metadata": {},
   "outputs": [
    {
     "name": "stdout",
     "output_type": "stream",
     "text": [
      "day_of_week\n",
      "Monday       456687\n",
      "Wednesday    277784\n",
      "Thursday     267294\n",
      "Tuesday      267098\n",
      "Friday        77860\n",
      "Name: count, dtype: int64\n"
     ]
    },
    {
     "data": {
      "text/plain": [
       "<Axes: title={'center': 'Transactions by Day of the Week'}, xlabel='day_of_week'>"
      ]
     },
     "execution_count": 15,
     "metadata": {},
     "output_type": "execute_result"
    },
    {
     "data": {
      "image/png": "[encoded data removed]",
      "text/plain": [
       "<Figure size 640x480 with 1 Axes>"
      ]
     },
     "metadata": {},
     "output_type": "display_data"
    }
   ],
   "source": [
    "df['day_of_week'] = df['instance_date'].dt.day_name()\n",
    "\n",
    "day_counts = df['day_of_week'].value_counts()\n",
    "print(day_counts)\n",
    "\n",
    "day_counts.plot(kind='bar', title='Transactions by Day of the Week')"
   ]
  },
  {
   "cell_type": "code",
   "execution_count": 16,
   "id": "dea57a2b-b551-41ca-ba20-3547c485adba",
   "metadata": {},
   "outputs": [
    {
     "name": "stdout",
     "output_type": "stream",
     "text": [
      "purchase_type\n",
      "Luxury    1346622\n",
      "Budget        101\n",
      "Name: count, dtype: int64\n"
     ]
    },
    {
     "data": {
      "text/plain": [
       "<Axes: title={'center': 'Luxury vs. Budget Transactions'}, ylabel='count'>"
      ]
     },
     "execution_count": 16,
     "metadata": {},
     "output_type": "execute_result"
    },
    {
     "data": {
      "image/png": "[encoded data removed]",
      "text/plain": [
       "<Figure size 640x480 with 1 Axes>"
      ]
     },
     "metadata": {},
     "output_type": "display_data"
    }
   ],
   "source": [
    "luxury_threshold = 5000\n",
    "\n",
    "df['purchase_type'] = df['actual_worth'].apply(lambda x: 'Luxury' if x > luxury_threshold else 'Budget')\n",
    "\n",
    "purchase_counts = df['purchase_type'].value_counts()\n",
    "print(purchase_counts)\n",
    "\n",
    "purchase_counts.plot(kind='pie', title='Luxury vs. Budget Transactions', autopct='%1.1f%%')"
   ]
  },
  {
   "cell_type": "code",
   "execution_count": 9,
   "id": "d68c8ba3-2cb1-4044-903c-7801fb9356b1",
   "metadata": {},
   "outputs": [],
   "source": [
    "df.to_csv('cleaned_transactions.csv', index=False)"
   ]
  }
 ],
 "metadata": {
  "kernelspec": {
   "display_name": "Python 3 (ipykernel)",
   "language": "python",
   "name": "python3"
  },
  "language_info": {
   "codemirror_mode": {
    "name": "ipython",
    "version": 3
   },
   "file_extension": ".py",
   "mimetype": "text/x-python",
   "name": "python",
   "nbconvert_exporter": "python",
   "pygments_lexer": "ipython3",
   "version": "3.11.2"
  }
 },
 "nbformat": 4,
 "nbformat_minor": 5
}
